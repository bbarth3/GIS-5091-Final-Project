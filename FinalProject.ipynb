{
 "cells": [
  {
   "cell_type": "markdown",
   "metadata": {},
   "source": [
    "## Welcome to your notebook.\n"
   ]
  },
  {
   "cell_type": "markdown",
   "metadata": {},
   "source": [
    "#### Run this cell to connect to your GIS and get started:"
   ]
  },
  {
   "cell_type": "code",
   "execution_count": 1,
   "metadata": {},
   "outputs": [],
   "source": [
    "from arcgis.gis import GIS\n",
    "gis = GIS(\"home\")\n",
    "import requests\n",
    "from arcgis.features.analysis import *\n",
    "from arcgis.features import FeatureLayer"
   ]
  },
  {
   "cell_type": "markdown",
   "metadata": {},
   "source": [
    "#### Now you are ready to start!"
   ]
  },
  {
   "cell_type": "code",
   "execution_count": 2,
   "metadata": {},
   "outputs": [],
   "source": [
    "#Create a Python notebook that creates three maps:\n",
    "#Military size by total personal\n",
    "#Military size by Active Duty personal\n",
    "#Military size as a percentage of total population.\n",
    "#(Worth 50 points) Create an ArcGIS Javascript API app or Leaflet app that displays one of the maps that you created above. I want the app to include popups and a legend."
   ]
  },
  {
   "cell_type": "markdown",
   "metadata": {},
   "source": [
    "# Map 1"
   ]
  },
  {
   "cell_type": "code",
   "execution_count": 3,
   "metadata": {},
   "outputs": [
    {
     "data": {
      "text/html": [
       "<div>\n",
       "<style scoped>\n",
       "    .dataframe tbody tr th:only-of-type {\n",
       "        vertical-align: middle;\n",
       "    }\n",
       "\n",
       "    .dataframe tbody tr th {\n",
       "        vertical-align: top;\n",
       "    }\n",
       "\n",
       "    .dataframe thead th {\n",
       "        text-align: right;\n",
       "    }\n",
       "</style>\n",
       "<table border=\"1\" class=\"dataframe\">\n",
       "  <thead>\n",
       "    <tr style=\"text-align: right;\">\n",
       "      <th></th>\n",
       "      <th>country</th>\n",
       "      <th>activeDuty</th>\n",
       "      <th>paramilitary</th>\n",
       "      <th>reserves</th>\n",
       "      <th>total</th>\n",
       "      <th>pop2022</th>\n",
       "    </tr>\n",
       "  </thead>\n",
       "  <tbody>\n",
       "    <tr>\n",
       "      <th>0</th>\n",
       "      <td>China</td>\n",
       "      <td>2185000</td>\n",
       "      <td>660000</td>\n",
       "      <td>1170000</td>\n",
       "      <td>4015000</td>\n",
       "      <td>1448471.400</td>\n",
       "    </tr>\n",
       "    <tr>\n",
       "      <th>1</th>\n",
       "      <td>India</td>\n",
       "      <td>1455550</td>\n",
       "      <td>2526950</td>\n",
       "      <td>1155000</td>\n",
       "      <td>5137500</td>\n",
       "      <td>1406631.776</td>\n",
       "    </tr>\n",
       "    <tr>\n",
       "      <th>2</th>\n",
       "      <td>United States</td>\n",
       "      <td>1388100</td>\n",
       "      <td>0</td>\n",
       "      <td>844950</td>\n",
       "      <td>2233050</td>\n",
       "      <td>334805.269</td>\n",
       "    </tr>\n",
       "    <tr>\n",
       "      <th>3</th>\n",
       "      <td>North Korea</td>\n",
       "      <td>1280000</td>\n",
       "      <td>5889000</td>\n",
       "      <td>600000</td>\n",
       "      <td>7769000</td>\n",
       "      <td>25990.679</td>\n",
       "    </tr>\n",
       "    <tr>\n",
       "      <th>4</th>\n",
       "      <td>Russia</td>\n",
       "      <td>1014000</td>\n",
       "      <td>554000</td>\n",
       "      <td>2000000</td>\n",
       "      <td>3568000</td>\n",
       "      <td>145805.947</td>\n",
       "    </tr>\n",
       "    <tr>\n",
       "      <th>...</th>\n",
       "      <td>...</td>\n",
       "      <td>...</td>\n",
       "      <td>...</td>\n",
       "      <td>...</td>\n",
       "      <td>...</td>\n",
       "      <td>...</td>\n",
       "    </tr>\n",
       "    <tr>\n",
       "      <th>163</th>\n",
       "      <td>Haiti</td>\n",
       "      <td>150</td>\n",
       "      <td>50</td>\n",
       "      <td>0</td>\n",
       "      <td>200</td>\n",
       "      <td>11680.283</td>\n",
       "    </tr>\n",
       "    <tr>\n",
       "      <th>164</th>\n",
       "      <td>Iceland</td>\n",
       "      <td>0</td>\n",
       "      <td>250</td>\n",
       "      <td>0</td>\n",
       "      <td>250</td>\n",
       "      <td>345.393</td>\n",
       "    </tr>\n",
       "    <tr>\n",
       "      <th>165</th>\n",
       "      <td>Mauritius</td>\n",
       "      <td>0</td>\n",
       "      <td>2550</td>\n",
       "      <td>0</td>\n",
       "      <td>2550</td>\n",
       "      <td>1274.727</td>\n",
       "    </tr>\n",
       "    <tr>\n",
       "      <th>166</th>\n",
       "      <td>Costa Rica</td>\n",
       "      <td>0</td>\n",
       "      <td>9800</td>\n",
       "      <td>0</td>\n",
       "      <td>9800</td>\n",
       "      <td>5182.354</td>\n",
       "    </tr>\n",
       "    <tr>\n",
       "      <th>167</th>\n",
       "      <td>Panama</td>\n",
       "      <td>0</td>\n",
       "      <td>26000</td>\n",
       "      <td>0</td>\n",
       "      <td>26000</td>\n",
       "      <td>4446.964</td>\n",
       "    </tr>\n",
       "  </tbody>\n",
       "</table>\n",
       "<p>168 rows × 6 columns</p>\n",
       "</div>"
      ],
      "text/plain": [
       "           country  activeDuty  paramilitary  reserves    total      pop2022\n",
       "0            China     2185000        660000   1170000  4015000  1448471.400\n",
       "1            India     1455550       2526950   1155000  5137500  1406631.776\n",
       "2    United States     1388100             0    844950  2233050   334805.269\n",
       "3      North Korea     1280000       5889000    600000  7769000    25990.679\n",
       "4           Russia     1014000        554000   2000000  3568000   145805.947\n",
       "..             ...         ...           ...       ...      ...          ...\n",
       "163          Haiti         150            50         0      200    11680.283\n",
       "164        Iceland           0           250         0      250      345.393\n",
       "165      Mauritius           0          2550         0     2550     1274.727\n",
       "166     Costa Rica           0          9800         0     9800     5182.354\n",
       "167         Panama           0         26000         0    26000     4446.964\n",
       "\n",
       "[168 rows x 6 columns]"
      ]
     },
     "execution_count": 3,
     "metadata": {},
     "output_type": "execute_result"
    }
   ],
   "source": [
    "import pandas as pd\n",
    "df = pd.read_csv(\"https://raw.githubusercontent.com/bbarth3/GIS-5091-Final-Project/main/MilitaryCsvData.csv\")\n",
    "df"
   ]
  },
  {
   "cell_type": "code",
   "execution_count": 4,
   "metadata": {},
   "outputs": [
    {
     "data": {
      "text/plain": [
       "<FeatureCollection>"
      ]
     },
     "execution_count": 4,
     "metadata": {},
     "output_type": "execute_result"
    }
   ],
   "source": [
    "total_stats = gis.content.import_data(df, {\"CountryCode\": \"country\"})\n",
    "total_stats"
   ]
  },
  {
   "cell_type": "code",
   "execution_count": 5,
   "metadata": {},
   "outputs": [
    {
     "data": {
      "application/vnd.jupyter.widget-view+json": {
       "model_id": "f04db7a92a0a48c9b15f3fd5183a3b82",
       "version_major": 2,
       "version_minor": 0
      },
      "text/plain": [
       "MapView(layout=Layout(height='400px', width='100%'))"
      ]
     },
     "metadata": {},
     "output_type": "display_data"
    },
    {
     "data": {
      "text/html": [
       "<div class=\"map-static-img-preview-7e899405-4ede-4813-97f1-0d57dc066b08\"><img src=\"\"></img></div>"
      ],
      "text/plain": [
       "<IPython.core.display.HTML object>"
      ]
     },
     "metadata": {},
     "output_type": "display_data"
    },
    {
     "data": {
      "text/html": [
       "<div class=\"map-html-embed-preview-7e899405-4ede-4813-97f1-0d57dc066b08\"></div>"
      ],
      "text/plain": [
       "<IPython.core.display.HTML object>"
      ]
     },
     "metadata": {},
     "output_type": "display_data"
    }
   ],
   "source": [
    "total_personal_map = gis.map(\"USA\", zoomlevel=2)\n",
    "total_personal_map"
   ]
  },
  {
   "cell_type": "code",
   "execution_count": 6,
   "metadata": {},
   "outputs": [],
   "source": [
    "total_personal_map.add_layer(total_stats, {\"renderer\":\"ClassedSizeRenderer\",  \"field_name\": \"total\"})"
   ]
  },
  {
   "cell_type": "code",
   "execution_count": 7,
   "metadata": {},
   "outputs": [],
   "source": [
    "total_personal_map.legend=True"
   ]
  },
  {
   "cell_type": "code",
   "execution_count": null,
   "metadata": {},
   "outputs": [],
   "source": []
  },
  {
   "cell_type": "markdown",
   "metadata": {},
   "source": [
    "# Map 2"
   ]
  },
  {
   "cell_type": "code",
   "execution_count": 8,
   "metadata": {},
   "outputs": [
    {
     "data": {
      "text/plain": [
       "<FeatureCollection>"
      ]
     },
     "execution_count": 8,
     "metadata": {},
     "output_type": "execute_result"
    }
   ],
   "source": [
    "active_stats = gis.content.import_data(df, {\"CountryCode\": \"country\"})\n",
    "active_stats"
   ]
  },
  {
   "cell_type": "code",
   "execution_count": 9,
   "metadata": {},
   "outputs": [
    {
     "data": {
      "application/vnd.jupyter.widget-view+json": {
       "model_id": "2432b7bd27224f7db960c1340ebcd669",
       "version_major": 2,
       "version_minor": 0
      },
      "text/plain": [
       "MapView(layout=Layout(height='400px', width='100%'))"
      ]
     },
     "metadata": {},
     "output_type": "display_data"
    },
    {
     "data": {
      "text/html": [
       "<div class=\"map-static-img-preview-00c04783-9435-4001-a857-1d7889e3523a\"><img src=\"\"></img></div>"
      ],
      "text/plain": [
       "<IPython.core.display.HTML object>"
      ]
     },
     "metadata": {},
     "output_type": "display_data"
    },
    {
     "data": {
      "text/html": [
       "<div class=\"map-html-embed-preview-00c04783-9435-4001-a857-1d7889e3523a\"></div>"
      ],
      "text/plain": [
       "<IPython.core.display.HTML object>"
      ]
     },
     "metadata": {},
     "output_type": "display_data"
    }
   ],
   "source": [
    "active_map = gis.map(\"USA\", zoomlevel=2)\n",
    "active_map"
   ]
  },
  {
   "cell_type": "code",
   "execution_count": 10,
   "metadata": {},
   "outputs": [],
   "source": [
    "active_map.add_layer(active_stats, {\"renderer\":\"ClassedSizeRenderer\",  \"field_name\": \"activeDuty\"})\n",
    "active_map.legend=True"
   ]
  },
  {
   "cell_type": "markdown",
   "metadata": {},
   "source": [
    "# Map 3"
   ]
  },
  {
   "cell_type": "code",
   "execution_count": 11,
   "metadata": {},
   "outputs": [
    {
     "data": {
      "text/html": [
       "<div>\n",
       "<style scoped>\n",
       "    .dataframe tbody tr th:only-of-type {\n",
       "        vertical-align: middle;\n",
       "    }\n",
       "\n",
       "    .dataframe tbody tr th {\n",
       "        vertical-align: top;\n",
       "    }\n",
       "\n",
       "    .dataframe thead th {\n",
       "        text-align: right;\n",
       "    }\n",
       "</style>\n",
       "<table border=\"1\" class=\"dataframe\">\n",
       "  <thead>\n",
       "    <tr style=\"text-align: right;\">\n",
       "      <th></th>\n",
       "      <th>country</th>\n",
       "      <th>activeDuty</th>\n",
       "      <th>paramilitary</th>\n",
       "      <th>reserves</th>\n",
       "      <th>total</th>\n",
       "      <th>pop2022</th>\n",
       "      <th>percent</th>\n",
       "    </tr>\n",
       "  </thead>\n",
       "  <tbody>\n",
       "    <tr>\n",
       "      <th>0</th>\n",
       "      <td>China</td>\n",
       "      <td>2185000</td>\n",
       "      <td>660000</td>\n",
       "      <td>1170000</td>\n",
       "      <td>4015000</td>\n",
       "      <td>1448471.400</td>\n",
       "      <td>50.706675</td>\n",
       "    </tr>\n",
       "    <tr>\n",
       "      <th>1</th>\n",
       "      <td>India</td>\n",
       "      <td>1455550</td>\n",
       "      <td>2526950</td>\n",
       "      <td>1155000</td>\n",
       "      <td>5137500</td>\n",
       "      <td>1406631.776</td>\n",
       "      <td>64.883074</td>\n",
       "    </tr>\n",
       "    <tr>\n",
       "      <th>2</th>\n",
       "      <td>United States</td>\n",
       "      <td>1388100</td>\n",
       "      <td>0</td>\n",
       "      <td>844950</td>\n",
       "      <td>2233050</td>\n",
       "      <td>334805.269</td>\n",
       "      <td>28.201878</td>\n",
       "    </tr>\n",
       "    <tr>\n",
       "      <th>3</th>\n",
       "      <td>North Korea</td>\n",
       "      <td>1280000</td>\n",
       "      <td>5889000</td>\n",
       "      <td>600000</td>\n",
       "      <td>7769000</td>\n",
       "      <td>25990.679</td>\n",
       "      <td>98.117100</td>\n",
       "    </tr>\n",
       "    <tr>\n",
       "      <th>4</th>\n",
       "      <td>Russia</td>\n",
       "      <td>1014000</td>\n",
       "      <td>554000</td>\n",
       "      <td>2000000</td>\n",
       "      <td>3568000</td>\n",
       "      <td>145805.947</td>\n",
       "      <td>45.061374</td>\n",
       "    </tr>\n",
       "    <tr>\n",
       "      <th>...</th>\n",
       "      <td>...</td>\n",
       "      <td>...</td>\n",
       "      <td>...</td>\n",
       "      <td>...</td>\n",
       "      <td>...</td>\n",
       "      <td>...</td>\n",
       "      <td>...</td>\n",
       "    </tr>\n",
       "    <tr>\n",
       "      <th>163</th>\n",
       "      <td>Haiti</td>\n",
       "      <td>150</td>\n",
       "      <td>50</td>\n",
       "      <td>0</td>\n",
       "      <td>200</td>\n",
       "      <td>11680.283</td>\n",
       "      <td>0.002526</td>\n",
       "    </tr>\n",
       "    <tr>\n",
       "      <th>164</th>\n",
       "      <td>Iceland</td>\n",
       "      <td>0</td>\n",
       "      <td>250</td>\n",
       "      <td>0</td>\n",
       "      <td>250</td>\n",
       "      <td>345.393</td>\n",
       "      <td>0.003157</td>\n",
       "    </tr>\n",
       "    <tr>\n",
       "      <th>165</th>\n",
       "      <td>Mauritius</td>\n",
       "      <td>0</td>\n",
       "      <td>2550</td>\n",
       "      <td>0</td>\n",
       "      <td>2550</td>\n",
       "      <td>1274.727</td>\n",
       "      <td>0.032205</td>\n",
       "    </tr>\n",
       "    <tr>\n",
       "      <th>166</th>\n",
       "      <td>Costa Rica</td>\n",
       "      <td>0</td>\n",
       "      <td>9800</td>\n",
       "      <td>0</td>\n",
       "      <td>9800</td>\n",
       "      <td>5182.354</td>\n",
       "      <td>0.123767</td>\n",
       "    </tr>\n",
       "    <tr>\n",
       "      <th>167</th>\n",
       "      <td>Panama</td>\n",
       "      <td>0</td>\n",
       "      <td>26000</td>\n",
       "      <td>0</td>\n",
       "      <td>26000</td>\n",
       "      <td>4446.964</td>\n",
       "      <td>0.328362</td>\n",
       "    </tr>\n",
       "  </tbody>\n",
       "</table>\n",
       "<p>168 rows × 7 columns</p>\n",
       "</div>"
      ],
      "text/plain": [
       "           country  activeDuty  paramilitary  reserves    total      pop2022  \\\n",
       "0            China     2185000        660000   1170000  4015000  1448471.400   \n",
       "1            India     1455550       2526950   1155000  5137500  1406631.776   \n",
       "2    United States     1388100             0    844950  2233050   334805.269   \n",
       "3      North Korea     1280000       5889000    600000  7769000    25990.679   \n",
       "4           Russia     1014000        554000   2000000  3568000   145805.947   \n",
       "..             ...         ...           ...       ...      ...          ...   \n",
       "163          Haiti         150            50         0      200    11680.283   \n",
       "164        Iceland           0           250         0      250      345.393   \n",
       "165      Mauritius           0          2550         0     2550     1274.727   \n",
       "166     Costa Rica           0          9800         0     9800     5182.354   \n",
       "167         Panama           0         26000         0    26000     4446.964   \n",
       "\n",
       "       percent  \n",
       "0    50.706675  \n",
       "1    64.883074  \n",
       "2    28.201878  \n",
       "3    98.117100  \n",
       "4    45.061374  \n",
       "..         ...  \n",
       "163   0.002526  \n",
       "164   0.003157  \n",
       "165   0.032205  \n",
       "166   0.123767  \n",
       "167   0.328362  \n",
       "\n",
       "[168 rows x 7 columns]"
      ]
     },
     "execution_count": 11,
     "metadata": {},
     "output_type": "execute_result"
    }
   ],
   "source": [
    "df['percent'] = (df['total'] / df['pop2022'].sum()) * 100\n",
    "df"
   ]
  },
  {
   "cell_type": "code",
   "execution_count": 12,
   "metadata": {},
   "outputs": [
    {
     "data": {
      "text/plain": [
       "<FeatureCollection>"
      ]
     },
     "execution_count": 12,
     "metadata": {},
     "output_type": "execute_result"
    }
   ],
   "source": [
    "pop_stats = gis.content.import_data(df, {\"CountryCode\": \"country\"})\n",
    "pop_stats"
   ]
  },
  {
   "cell_type": "code",
   "execution_count": 13,
   "metadata": {},
   "outputs": [
    {
     "data": {
      "application/vnd.jupyter.widget-view+json": {
       "model_id": "3ec2de3dbc254abf91343b40d8164431",
       "version_major": 2,
       "version_minor": 0
      },
      "text/plain": [
       "MapView(layout=Layout(height='400px', width='100%'))"
      ]
     },
     "metadata": {},
     "output_type": "display_data"
    },
    {
     "data": {
      "text/html": [
       "<div class=\"map-static-img-preview-51cd36ea-51dd-4f63-b24e-0fe46fc772df\"><img src=\"\"></img></div>"
      ],
      "text/plain": [
       "<IPython.core.display.HTML object>"
      ]
     },
     "metadata": {},
     "output_type": "display_data"
    },
    {
     "data": {
      "text/html": [
       "<div class=\"map-html-embed-preview-51cd36ea-51dd-4f63-b24e-0fe46fc772df\"></div>"
      ],
      "text/plain": [
       "<IPython.core.display.HTML object>"
      ]
     },
     "metadata": {},
     "output_type": "display_data"
    }
   ],
   "source": [
    "pop_map = gis.map(\"USA\", zoomlevel=2)\n",
    "pop_map"
   ]
  },
  {
   "cell_type": "code",
   "execution_count": 15,
   "metadata": {},
   "outputs": [],
   "source": [
    "pop_map.add_layer(pop_stats, {\"renderer\":\"ClassedSizeRenderer\",  \"field_name\": \"percent\"})\n",
    "pop_map.legend=True"
   ]
  },
  {
   "cell_type": "code",
   "execution_count": null,
   "metadata": {},
   "outputs": [],
   "source": []
  }
 ],
 "metadata": {
  "esriNotebookRuntime": {
   "notebookRuntimeName": "ArcGIS Notebook Python 3 Standard",
   "notebookRuntimeVersion": "6.0"
  },
  "kernelspec": {
   "display_name": "Python 3 (ipykernel)",
   "language": "python",
   "name": "python3"
  },
  "language_info": {
   "codemirror_mode": {
    "name": "ipython",
    "version": 3
   },
   "file_extension": ".py",
   "mimetype": "text/x-python",
   "name": "python",
   "nbconvert_exporter": "python",
   "pygments_lexer": "ipython3",
   "version": "3.7.11"
  }
 },
 "nbformat": 4,
 "nbformat_minor": 2
}
